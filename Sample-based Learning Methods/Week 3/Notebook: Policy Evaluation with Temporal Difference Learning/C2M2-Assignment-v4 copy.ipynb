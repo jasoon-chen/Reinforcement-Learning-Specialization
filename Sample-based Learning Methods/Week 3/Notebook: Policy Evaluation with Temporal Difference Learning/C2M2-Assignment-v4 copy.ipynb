{
 "cells": [
  {
   "cell_type": "markdown",
   "metadata": {
    "deletable": false,
    "editable": false,
    "nbgrader": {
     "checksum": "e8b56fd33339971ca5778f6972734625",
     "grade": false,
     "grade_id": "cell-6de02a4f8d8d32df",
     "locked": true,
     "schema_version": 1,
     "solution": false
    }
   },
   "source": [
    "# Assignment: Policy Evaluation in Cliff Walking Environment\n",
    "\n",
    "Welcome to the Course 2 Module 2 Programming Assignment! In this assignment, you will implement one of the fundamental sample and bootstrapping based model free reinforcement learning agents for prediction. This is namely one that uses one-step temporal difference learning, also known as TD(0). The task is to design an agent for policy evaluation in the Cliff Walking environment. Recall that policy evaluation is the prediction problem where the goal is to accurately estimate the values of states given some policy.\n",
    "\n",
    "### Learning Objectives\n",
    "- Implement parts of the Cliff Walking environment, to get experience specifying MDPs [Section 1].\n",
    "- Implement an agent that uses bootstrapping and, particularly, TD(0) [Section 2].\n",
    "- Apply TD(0) to estimate value functions for different policies, i.e., run policy evaluation experiments [Section 3]."
   ]
  },
  {
   "cell_type": "markdown",
   "metadata": {
    "deletable": false,
    "editable": false,
    "nbgrader": {
     "checksum": "798b4c4240e0c54b93e87f4e543970e1",
     "grade": false,
     "grade_id": "cell-5a9dadfdba2eea90",
     "locked": true,
     "schema_version": 1,
     "solution": false
    }
   },
   "source": [
    "## The Cliff Walking Environment\n",
    "\n",
    "The Cliff Walking environment is a gridworld with a discrete state space and discrete action space. The agent starts at grid cell S. The agent can move (deterministically) to the four neighboring cells by taking actions Up, Down, Left or Right. Trying to move out of the boundary results in staying in the same location. So, for example, trying to move left when at a cell on the leftmost column results in no movement at all and the agent remains in the same location. The agent receives -1 reward per step in most states, and -100 reward when falling off of the cliff. This is an episodic task; termination occurs when the agent reaches the goal grid cell G. Falling off of the cliff results in resetting to the start state, without termination.\n",
    "\n",
    "The diagram below showcases the description above and also illustrates two of the policies we will be evaluating.\n",
    "\n",
    "<img src=\"cliffwalk.png\" style=\"height:400px\">"
   ]
  },
  {
   "cell_type": "markdown",
   "metadata": {
    "deletable": false,
    "editable": false,
    "nbgrader": {
     "checksum": "e95b77b39709873d39c9fa46afbf4700",
     "grade": false,
     "grade_id": "cell-82b38787563a7073",
     "locked": true,
     "schema_version": 1,
     "solution": false
    }
   },
   "source": [
    "## Packages.\n",
    "\n",
    "We import the following libraries that are required for this assignment. We shall be using the following libraries:\n",
    "1. jdc: Jupyter magic that allows defining classes over multiple jupyter notebook cells.\n",
    "2. numpy: the fundamental package for scientific computing with Python.\n",
    "3. matplotlib: the library for plotting graphs in Python.\n",
    "4. RL-Glue: the library for reinforcement learning experiments.\n",
    "5. BaseEnvironment, BaseAgent: the base classes from which we will inherit when creating the environment and agent classes in order for them to support the RL-Glue framework.\n",
    "6. Manager: the file allowing for visualization and testing.\n",
    "7. itertools.product: the function that can be used easily to compute permutations.\n",
    "8. tqdm.tqdm: Provides progress bars for visualizing the status of loops.\n",
    "\n",
    "**Please do not import other libraries** — this will break the autograder.\n",
    "\n",
    "**NOTE: For this notebook, there is no need to make any calls to methods of random number generators. Spurious or missing calls to random number generators may affect your results.**"
   ]
  },
  {
   "cell_type": "code",
   "execution_count": 2,
   "metadata": {
    "deletable": false,
    "editable": false,
    "nbgrader": {
     "checksum": "386dc36257995b1270913ddfcdc1a838",
     "grade": false,
     "grade_id": "cell-917f710997077ab6",
     "locked": true,
     "schema_version": 1,
     "solution": false
    }
   },
   "outputs": [],
   "source": [
    "# Do not modify this cell!\n",
    "\n",
    "import jdc\n",
    "# --\n",
    "import numpy as np\n",
    "# --\n",
    "from rl_glue import RLGlue\n",
    "# --\n",
    "from Agent import BaseAgent \n",
    "from Environment import BaseEnvironment  \n",
    "# --\n",
    "from manager import Manager\n",
    "# --\n",
    "from itertools import product\n",
    "# --\n",
    "from tqdm import tqdm"
   ]
  },
  {
   "cell_type": "markdown",
   "metadata": {
    "deletable": false,
    "editable": false,
    "nbgrader": {
     "checksum": "83300358f840fb91d5c9ef9a3e77e09c",
     "grade": false,
     "grade_id": "cell-bb3b3151b3f4f759",
     "locked": true,
     "schema_version": 1,
     "solution": false
    }
   },
   "source": [
    "## Section 1. Environment\n",
    "\n",
    "In the first part of this assignment, you will get to see how the Cliff Walking environment is implemented. You will also get to implement parts of it to aid your understanding of the environment and more generally how MDPs are specified. In particular, you will implement the logic for:\n",
    " 1. Converting 2-dimensional coordinates to a single index for the state,\n",
    " 2. One of the actions (action up), and,\n",
    " 3. Reward and termination.\n",
    " \n",
    "Given below is an annotated diagram of the environment with more details that may help in completing the tasks of this part of the assignment. Note that we will be creating a more general environment where the height and width positions can be variable but the start, goal and cliff grid cells have the same relative positions (bottom left, bottom right and the cells between the start and goal grid cells respectively).\n",
    "\n",
    "<img src=\"cliffwalk-annotated.png\" style=\"height:400px\">\n",
    "\n",
    "Once you have gone through the code and begun implementing solutions, it may be a good idea to come back here and see if you can convince yourself that the diagram above is an accurate representation of the code given and the code you have written."
   ]
  },
  {
   "cell_type": "code",
   "execution_count": 4,
   "metadata": {
    "deletable": false,
    "editable": false,
    "nbgrader": {
     "checksum": "54342eceb70d3ded536ef90b397df6a9",
     "grade": false,
     "grade_id": "cell-3b0342944fae98dd",
     "locked": true,
     "schema_version": 1,
     "solution": false
    }
   },
   "outputs": [],
   "source": [
    "# Do not modify this cell!\n",
    "\n",
    "# Create empty CliffWalkEnvironment class.\n",
    "# These methods will be filled in later cells.\n",
    "class CliffWalkEnvironment(BaseEnvironment):\n",
    "    def env_init(self, agent_info={}):\n",
    "        raise NotImplementedError\n",
    "\n",
    "    def env_start(self, state):\n",
    "        raise NotImplementedError\n",
    "\n",
    "    def env_step(self, reward, state):\n",
    "        raise NotImplementedError\n",
    "\n",
    "    def env_end(self, reward):\n",
    "        raise NotImplementedError\n",
    "        \n",
    "    def env_cleanup(self, reward):\n",
    "        raise NotImplementedError\n",
    "    \n",
    "    # helper method\n",
    "    def state(self, loc):\n",
    "        raise NotImplementedError"
   ]
  },
  {
   "cell_type": "markdown",
   "metadata": {
    "deletable": false,
    "editable": false,
    "nbgrader": {
     "checksum": "4583069bbb85ef2faa1824bf57693198",
     "grade": false,
     "grade_id": "cell-ace4da9bae087ba3",
     "locked": true,
     "schema_version": 1,
     "solution": false
    }
   },
   "source": [
    "## env_init()\n",
    "\n",
    "The first function we add to the environment is the initialization function which is called once when an environment object is created. In this function, the grid dimensions and special locations (start and goal locations and the cliff locations) are stored for easy use later."
   ]
  },
  {
   "cell_type": "code",
   "execution_count": 5,
   "metadata": {
    "deletable": false,
    "editable": false,
    "nbgrader": {
     "checksum": "386dd420b57b9661e21454eb72f9783e",
     "grade": false,
     "grade_id": "cell-fa1aefc241323c3d",
     "locked": true,
     "schema_version": 1,
     "solution": false
    }
   },
   "outputs": [],
   "source": [
    "%%add_to CliffWalkEnvironment\n",
    "\n",
    "# Do not modify this cell!\n",
    "\n",
    "# Work Required: No.\n",
    "def env_init(self, env_info={}):\n",
    "        \"\"\"Setup for the environment called when the experiment first starts.\n",
    "        Note:\n",
    "            Initialize a tuple with the reward, first state, boolean\n",
    "            indicating if it's terminal.\n",
    "        \"\"\"\n",
    "        \n",
    "        # Note, we can setup the following variables later, in env_start() as it is equivalent. \n",
    "        # Code is left here to adhere to the note above, but these variables are initialized once more\n",
    "        # in env_start() [See the env_start() function below.]\n",
    "        \n",
    "        reward = None\n",
    "        state = None # See Aside\n",
    "        termination = None\n",
    "        self.reward_state_term = (reward, state, termination)\n",
    "        \n",
    "        # AN ASIDE: Observation is a general term used in the RL-Glue files that can be interachangeably \n",
    "        # used with the term \"state\" for our purposes and for this assignment in particular. \n",
    "        # A difference arises in the use of the terms when we have what is called Partial Observability where \n",
    "        # the environment may return states that may not fully represent all the information needed to \n",
    "        # predict values or make decisions (i.e., the environment is non-Markovian.)\n",
    "        \n",
    "        # Set the default height to 4 and width to 12 (as in the diagram given above)\n",
    "        self.grid_h = env_info.get(\"grid_height\", 4) \n",
    "        self.grid_w = env_info.get(\"grid_width\", 12)\n",
    "        \n",
    "        # Now, we can define a frame of reference. Let positive x be towards the direction down and \n",
    "        # positive y be towards the direction right (following the row-major NumPy convention.)\n",
    "        # Then, keeping with the usual convention that arrays are 0-indexed, max x is then grid_h - 1 \n",
    "        # and max y is then grid_w - 1. So, we have:\n",
    "        # Starting location of agent is the bottom-left corner, (max x, min y). \n",
    "        self.start_loc = (self.grid_h - 1, 0)\n",
    "        # Goal location is the bottom-right corner. (max x, max y).\n",
    "        self.goal_loc = (self.grid_h - 1, self.grid_w - 1)\n",
    "        \n",
    "        # The cliff will contain all the cells between the start_loc and goal_loc.\n",
    "        self.cliff = [(self.grid_h - 1, i) for i in range(1, (self.grid_w - 1))]\n",
    "        \n",
    "        # Take a look at the annotated environment diagram given in the above Jupyter Notebook cell to \n",
    "        # verify that your understanding of the above code is correct for the default case, i.e., where \n",
    "        # height = 4 and width = 12."
   ]
  },
  {
   "cell_type": "markdown",
   "metadata": {
    "deletable": false,
    "editable": false,
    "nbgrader": {
     "checksum": "367f3f8ad6acdd57c117ec393126b835",
     "grade": false,
     "grade_id": "cell-3acbe101e0eef006",
     "locked": true,
     "schema_version": 1,
     "solution": false
    }
   },
   "source": [
    "## *Implement* state()\n",
    "    \n",
    "The agent location can be described as a two-tuple or coordinate (x, y) describing the agent’s position. \n",
    "However, we can convert the (x, y) tuple into a single index and provide agents with just this integer.\n",
    "One reason for this choice is that the spatial aspect of the problem is secondary and there is no need \n",
    "for the agent to know about the exact dimensions of the environment. \n",
    "From the agent’s viewpoint, it is just perceiving some states, accessing their corresponding values \n",
    "in a table, and updating them. Both the coordinate (x, y) state representation and the converted coordinate representation are thus equivalent in this sense.\n",
    "\n",
    "Given a grid cell location, the state() function should return the state; a single index corresponding to the location in the grid.\n",
    "\n",
    "\n",
    "```\n",
    "Example: Suppose grid_h is 2 and grid_w is 2. Then, we can write the grid cell two-tuple or coordinate\n",
    "states as follows (following the usual 0-index convention):\n",
    "|(0, 0) (0, 1)| |0 1|\n",
    "|(1, 0) (1, 1)| |2 3|\n",
    "Assuming row-major order as NumPy does,  we can flatten the latter to get a vector [0 1 2 3].\n",
    "So, if loc = (0, 0) we return 0. While, for loc = (1, 1) we return 3.\n",
    "```"
   ]
  },
  {
   "cell_type": "code",
   "execution_count": 6,
   "metadata": {
    "deletable": false,
    "nbgrader": {
     "checksum": "bd4aefb2add249390e2b41a037d99598",
     "grade": false,
     "grade_id": "cell-f11f3394d921a585",
     "locked": false,
     "schema_version": 1,
     "solution": true
    }
   },
   "outputs": [],
   "source": [
    "%%add_to CliffWalkEnvironment\n",
    "#GRADED FUNCTION: [state]\n",
    "\n",
    "# Work Required: Yes. Modify the return statement of this function to return a correct single index as \n",
    "# the state (see the logic for this in the previous cell.)\n",
    "# Lines: 1\n",
    "def state(self, loc):\n",
    "    ### START CODE HERE ###\n",
    "    i, j = loc\n",
    "    return i * self.grid_w + j\n",
    "    ### END CODE HERE ###"
   ]
  },
  {
   "cell_type": "code",
   "execution_count": 7,
   "metadata": {
    "deletable": false,
    "editable": false,
    "nbgrader": {
     "checksum": "5c1f5e70a8745afcdffb67c18be40958",
     "grade": true,
     "grade_id": "state",
     "locked": true,
     "points": 5,
     "schema_version": 1,
     "solution": false
    }
   },
   "outputs": [],
   "source": [
    "### AUTOGRADER TESTS FOR STATE (5 POINTS)\n",
    "# NOTE: The test below corresponds to the annotated diagram for the environment\n",
    "#       given previously and is limited in scope. Hidden tests are used in the autograder.\n",
    "#       You may wish to run other tests to check your implementation.\n",
    "def test_state():\n",
    "    env = CliffWalkEnvironment()\n",
    "    env.env_init({\"grid_height\": 4, \"grid_width\": 12})\n",
    "    coords_to_test = [(0, 0), (0, 11), (1, 5), (3, 0), (3, 9), (3, 11)]\n",
    "    true_states = [0, 11, 17, 36, 45, 47]\n",
    "    output_states = [env.state(coords) for coords in coords_to_test]\n",
    "    assert(output_states == true_states)\n",
    "test_state()"
   ]
  },
  {
   "cell_type": "markdown",
   "metadata": {
    "deletable": false,
    "editable": false,
    "nbgrader": {
     "checksum": "b388d1d1cccc77907f4137339943df39",
     "grade": false,
     "grade_id": "cell-dd93e8a1b24bc4cf",
     "locked": true,
     "schema_version": 1,
     "solution": false
    }
   },
   "source": [
    "## env_start()\n",
    "\n",
    "In env_start(), we initialize the agent location to be the start location and return the state corresponding to it as the first state for the agent to act upon. Additionally, we also set the reward and termination terms to be 0 and False respectively as they are consistent with the notion that there is no reward nor termination before the first action is even taken."
   ]
  },
  {
   "cell_type": "code",
   "execution_count": 6,
   "metadata": {
    "deletable": false,
    "editable": false,
    "nbgrader": {
     "checksum": "58fed26db20dabd6fa4570b1f399a148",
     "grade": false,
     "grade_id": "cell-c71fa14686edfa0b",
     "locked": true,
     "schema_version": 1,
     "solution": false
    }
   },
   "outputs": [],
   "source": [
    "%%add_to CliffWalkEnvironment\n",
    "\n",
    "# Do not modify this cell!\n",
    "\n",
    "# Work Required: No.\n",
    "def env_start(self):\n",
    "    \"\"\"The first method called when the episode starts, called before the\n",
    "    agent starts.\n",
    "\n",
    "    Returns:\n",
    "        The first state from the environment.\n",
    "    \"\"\"\n",
    "    reward = 0\n",
    "    # agent_loc will hold the current location of the agent\n",
    "    self.agent_loc = self.start_loc\n",
    "    # state is the one dimensional state representation of the agent location.\n",
    "    state = self.state(self.agent_loc)\n",
    "    termination = False\n",
    "    self.reward_state_term = (reward, state, termination)\n",
    "\n",
    "    return self.reward_state_term[1]"
   ]
  },
  {
   "cell_type": "markdown",
   "metadata": {
    "deletable": false,
    "editable": false,
    "nbgrader": {
     "checksum": "1c21e0e861d5f3220fff345e3d5e07b0",
     "grade": false,
     "grade_id": "cell-bf5f7e78e0019780",
     "locked": true,
     "schema_version": 1,
     "solution": false
    }
   },
   "source": [
    "## *Implement* env_step()\n",
    "\n",
    "Once an action is taken by the agent, the environment must provide a new state, reward and termination signal. \n",
    "\n",
    "In the Cliff Walking environment, agents move around using a 4-cell neighborhood called the Von Neumann neighborhood (https://en.wikipedia.org/wiki/Von_Neumann_neighborhood). Thus, the agent has 4 available actions at each state. Three of the actions have been implemented for you and your first task is to implement the logic for the fourth action (Action UP).\n",
    "\n",
    "Your second task for this function is to implement the reward logic. Look over the environment description given earlier in this notebook if you need a refresher for how the reward signal is defined."
   ]
  },
  {
   "cell_type": "code",
   "execution_count": 8,
   "metadata": {
    "deletable": false,
    "nbgrader": {
     "checksum": "e35e399a59401a069393c4fc781bad8c",
     "grade": false,
     "grade_id": "cell-45dfc79809d59695",
     "locked": false,
     "schema_version": 1,
     "solution": true
    }
   },
   "outputs": [],
   "source": [
    "%%add_to CliffWalkEnvironment\n",
    "#GRADED FUNCTION: [env_step]\n",
    "\n",
    "# Work Required: Yes. Fill in the code for action UP and implement the logic for reward and termination.\n",
    "# Lines: ~7.\n",
    "def env_step(self, action):\n",
    "    \"\"\"A step taken by the environment.\n",
    "\n",
    "    Args:\n",
    "        action: The action taken by the agent\n",
    "\n",
    "    Returns:\n",
    "        (float, state, Boolean): a tuple of the reward, state,\n",
    "            and boolean indicating if it's terminal.\n",
    "    \"\"\"\n",
    "\n",
    "    if action == 0: # UP (Task 1)\n",
    "        ### START CODE HERE ###\n",
    "        # Hint: Look at the code given for the other actions and think about the logic in them.\n",
    "        possible_next_loc = (self.agent_loc[0]-1, self.agent_loc[1])\n",
    "        if possible_next_loc[0] >= 0: # Within Bounds?\n",
    "            self.agent_loc = possible_next_loc\n",
    "        else:\n",
    "            pass # Stay.\n",
    "        ### END CODE HERE ###\n",
    "    elif action == 1: # LEFT\n",
    "        possible_next_loc = (self.agent_loc[0], self.agent_loc[1] - 1)\n",
    "        if possible_next_loc[1] >= 0: # Within Bounds?\n",
    "            self.agent_loc = possible_next_loc\n",
    "        else:\n",
    "            pass # Stay.\n",
    "    elif action == 2: # DOWN\n",
    "        possible_next_loc = (self.agent_loc[0] + 1, self.agent_loc[1])\n",
    "        if possible_next_loc[0] < self.grid_h: # Within Bounds?\n",
    "            self.agent_loc = possible_next_loc\n",
    "        else:\n",
    "            pass # Stay.\n",
    "    elif action == 3: # RIGHT\n",
    "        possible_next_loc = (self.agent_loc[0], self.agent_loc[1] + 1)\n",
    "        if possible_next_loc[1] < self.grid_w: # Within Bounds?\n",
    "            self.agent_loc = possible_next_loc\n",
    "        else:\n",
    "            pass # Stay.\n",
    "    else: \n",
    "        raise Exception(str(action) + \" not in recognized actions [0: Up, 1: Left, 2: Down, 3: Right]!\")\n",
    "\n",
    "    reward = -1\n",
    "    terminal = False\n",
    "\n",
    "    ### START CODE HERE ###\n",
    "    # Hint: Consider the initialization of reward and terminal variables above. Then, note the \n",
    "    # conditional statements and comments given below and carefully ensure to set the variables reward \n",
    "    # and terminal correctly for each case.\n",
    "    if self.agent_loc == self.goal_loc: # Reached Goal!\n",
    "        reward = -1\n",
    "        terminal = True\n",
    "    elif self.agent_loc in self.cliff: # Fell into the cliff!\n",
    "        reward = -100\n",
    "        terminal = False\n",
    "        self.agent_loc = self.start_loc\n",
    "    else: \n",
    "        reward = -1\n",
    "        terminal = False\n",
    "    ### END CODE HERE ###\n",
    "\n",
    "    self.reward_state_term = (reward, self.state(self.agent_loc), terminal)\n",
    "    return self.reward_state_term"
   ]
  },
  {
   "cell_type": "code",
   "execution_count": 9,
   "metadata": {
    "deletable": false,
    "editable": false,
    "nbgrader": {
     "checksum": "265bd639fb4f3a322d51ff96597f5648",
     "grade": true,
     "grade_id": "action_up",
     "locked": true,
     "points": 5,
     "schema_version": 1,
     "solution": false
    }
   },
   "outputs": [],
   "source": [
    "### AUTOGRADER TESTS FOR ACTION UP (5 POINTS)\n",
    "# NOTE: The test below is again limited in scope. Hidden tests are used in the autograder.\n",
    "#       You may wish to run other tests to check your implementation.\n",
    "def test_action_up():\n",
    "    env = CliffWalkEnvironment()\n",
    "    env.env_init({\"grid_height\": 4, \"grid_width\": 12})\n",
    "    env.agent_loc = (0, 0)\n",
    "    env.env_step(0)\n",
    "    assert(env.agent_loc == (0, 0))\n",
    "    \n",
    "    env.agent_loc = (1, 0)\n",
    "    env.env_step(0)\n",
    "    assert(env.agent_loc == (0, 0))\n",
    "test_action_up()"
   ]
  },
  {
   "cell_type": "code",
   "execution_count": 10,
   "metadata": {
    "deletable": false,
    "editable": false,
    "nbgrader": {
     "checksum": "73b383e7e0a1c203a26a29b850684a52",
     "grade": true,
     "grade_id": "reward_termination",
     "locked": true,
     "points": 10,
     "schema_version": 1,
     "solution": false
    }
   },
   "outputs": [],
   "source": [
    "### AUTOGRADER TESTS FOR REWARD & TERMINATION (10 POINTS)\n",
    "# NOTE: The test below is limited in scope. Hidden tests are used in the autograder.\n",
    "#       You may wish to run other tests to check your implementation.\n",
    "def test_reward():\n",
    "    env = CliffWalkEnvironment()\n",
    "    env.env_init({\"grid_height\": 4, \"grid_width\": 12})\n",
    "    env.agent_loc = (0, 0)\n",
    "    reward_state_term = env.env_step(0)\n",
    "    assert(reward_state_term[0] == -1 and reward_state_term[1] == env.state((0, 0)) and\n",
    "           reward_state_term[2] == False)\n",
    "    \n",
    "    env.agent_loc = (3, 1)\n",
    "    reward_state_term = env.env_step(2)\n",
    "    assert(reward_state_term[0] == -100 and reward_state_term[1] == env.state((3, 0)) and\n",
    "           reward_state_term[2] == False)\n",
    "    \n",
    "    env.agent_loc = (2, 11)\n",
    "    reward_state_term = env.env_step(2)\n",
    "    assert(reward_state_term[0] == -1 and reward_state_term[1] == env.state((3, 11)) and\n",
    "           reward_state_term[2] == True)\n",
    "test_reward()"
   ]
  },
  {
   "cell_type": "markdown",
   "metadata": {
    "deletable": false,
    "editable": false,
    "nbgrader": {
     "checksum": "4a499bb0871653446d6b303c2625df09",
     "grade": false,
     "grade_id": "cell-88082a3dab94c4a8",
     "locked": true,
     "schema_version": 1,
     "solution": false
    }
   },
   "source": [
    "## env_cleanup()\n",
    "\n",
    "There is not much cleanup to do for the Cliff Walking environment. Here, we simply reset the agent location to be the start location in this function."
   ]
  },
  {
   "cell_type": "code",
   "execution_count": 11,
   "metadata": {
    "deletable": false,
    "editable": false,
    "nbgrader": {
     "checksum": "ef29fa83791e5f064a53af742f2859a2",
     "grade": false,
     "grade_id": "cell-4c235eb2667f9f0d",
     "locked": true,
     "schema_version": 1,
     "solution": false
    }
   },
   "outputs": [],
   "source": [
    "%%add_to CliffWalkEnvironment\n",
    "\n",
    "# Do not modify this cell!\n",
    "\n",
    "# Work Required: No.\n",
    "def env_cleanup(self):\n",
    "    \"\"\"Cleanup done after the environment ends\"\"\"\n",
    "    self.agent_loc = self.start_loc"
   ]
  },
  {
   "cell_type": "markdown",
   "metadata": {
    "deletable": false,
    "editable": false,
    "nbgrader": {
     "checksum": "180b31b525fb94442eb79f07d7097700",
     "grade": false,
     "grade_id": "cell-ff4e65eb47d735c9",
     "locked": true,
     "schema_version": 1,
     "solution": false
    }
   },
   "source": [
    "## Section 2. Agent\n",
    "\n",
    "In this second part of the assignment, you will be implementing the key updates for Temporal Difference Learning. There are two cases to consider depending on whether an action leads to a terminal state or not."
   ]
  },
  {
   "cell_type": "code",
   "execution_count": 12,
   "metadata": {
    "deletable": false,
    "editable": false,
    "nbgrader": {
     "checksum": "d4eaa5e48e54f9c5e55149325b215d47",
     "grade": false,
     "grade_id": "cell-3abcfd06cde56935",
     "locked": true,
     "schema_version": 1,
     "solution": false
    }
   },
   "outputs": [],
   "source": [
    "# Do not modify this cell!\n",
    "\n",
    "# Create empty TDAgent class.\n",
    "# These methods will be filled in later cells.\n",
    "\n",
    "class TDAgent(BaseAgent):\n",
    "    def agent_init(self, agent_info={}):\n",
    "        raise NotImplementedError\n",
    "        \n",
    "    def agent_start(self, state):\n",
    "        raise NotImplementedError\n",
    "\n",
    "    def agent_step(self, reward, state):\n",
    "        raise NotImplementedError\n",
    "\n",
    "    def agent_end(self, reward):\n",
    "        raise NotImplementedError\n",
    "\n",
    "    def agent_cleanup(self):        \n",
    "        raise NotImplementedError\n",
    "        \n",
    "    def agent_message(self, message):\n",
    "        raise NotImplementedError"
   ]
  },
  {
   "cell_type": "markdown",
   "metadata": {
    "deletable": false,
    "editable": false,
    "nbgrader": {
     "checksum": "83d69efb64983138188a2bad513622b1",
     "grade": false,
     "grade_id": "cell-edd826505e77e70a",
     "locked": true,
     "schema_version": 1,
     "solution": false
    }
   },
   "source": [
    "## agent_init()\n",
    "\n",
    "As we did with the environment, we first initialize the agent once when a TDAgent object is created. In this function, we create a random number generator, seeded with the seed provided in the agent_info dictionary to get reproducible results. We also set the policy, discount and step size based on the agent_info dictionary. Finally, with a convention that the policy is always specified as a mapping from states to actions and so is an array of size (# States, # Actions), we initialize a values array of shape (# States,) to zeros."
   ]
  },
  {
   "cell_type": "code",
   "execution_count": 13,
   "metadata": {
    "deletable": false,
    "editable": false,
    "nbgrader": {
     "checksum": "24d451072e0b43f3ad7980887c6f5861",
     "grade": false,
     "grade_id": "cell-077135deef2f8fd9",
     "locked": true,
     "schema_version": 1,
     "solution": false
    }
   },
   "outputs": [],
   "source": [
    "%%add_to TDAgent\n",
    "\n",
    "# Do not modify this cell!\n",
    "\n",
    "# Work Required: No.\n",
    "def agent_init(self, agent_info={}):\n",
    "    \"\"\"Setup for the agent called when the experiment first starts.\"\"\"\n",
    "\n",
    "    # Create a random number generator with the provided seed to seed the agent for reproducibility.\n",
    "    self.rand_generator = np.random.RandomState(agent_info.get(\"seed\"))\n",
    "\n",
    "    # Policy will be given, recall that the goal is to accurately estimate its corresponding value function. \n",
    "    self.policy = agent_info.get(\"policy\")\n",
    "    # Discount factor (gamma) to use in the updates.\n",
    "    self.discount = agent_info.get(\"discount\")\n",
    "    # The learning rate or step size parameter (alpha) to use in updates.\n",
    "    self.step_size = agent_info.get(\"step_size\")\n",
    "\n",
    "    # Initialize an array of zeros that will hold the values.\n",
    "    # Recall that the policy can be represented as a (# States, # Actions) array. With the \n",
    "    # assumption that this is the case, we can use the first dimension of the policy to\n",
    "    # initialize the array for values.\n",
    "    self.values = np.zeros((self.policy.shape[0],))"
   ]
  },
  {
   "cell_type": "markdown",
   "metadata": {
    "deletable": false,
    "editable": false,
    "nbgrader": {
     "checksum": "a4f9d05505f09198739674b1b330b9cd",
     "grade": false,
     "grade_id": "cell-99e8e59cd1f7a5ef",
     "locked": true,
     "schema_version": 1,
     "solution": false
    }
   },
   "source": [
    "# agent_start()\n",
    "\n",
    "In agent_start(), we choose an action based on the initial state and policy we are evaluating. We also cache the state so that we can later update its value when we perform a Temporal Difference update. Finally, we return the action chosen so that the RL loop can continue and the environment can execute this action."
   ]
  },
  {
   "cell_type": "code",
   "execution_count": 14,
   "metadata": {
    "deletable": false,
    "editable": false,
    "nbgrader": {
     "checksum": "8c5490c3d5fa88339b02cdf933f7f106",
     "grade": false,
     "grade_id": "cell-1b6dd05f7f49c1fc",
     "locked": true,
     "schema_version": 1,
     "solution": false
    }
   },
   "outputs": [],
   "source": [
    "%%add_to TDAgent\n",
    "\n",
    "# Do not modify this cell!\n",
    "\n",
    "# Work Required: No.\n",
    "def agent_start(self, state):\n",
    "    \"\"\"The first method called when the episode starts, called after\n",
    "    the environment starts.\n",
    "    Args:\n",
    "        state (Numpy array): the state from the environment's env_start function.\n",
    "    Returns:\n",
    "        The first action the agent takes.\n",
    "    \"\"\"\n",
    "    # The policy can be represented as a (# States, # Actions) array. So, we can use \n",
    "    # the second dimension here when choosing an action.\n",
    "    action = self.rand_generator.choice(range(self.policy.shape[1]), p=self.policy[state])\n",
    "    self.last_state = state\n",
    "    return action"
   ]
  },
  {
   "cell_type": "markdown",
   "metadata": {
    "deletable": false,
    "editable": false,
    "nbgrader": {
     "checksum": "fd9be2a7be0a8fbd3aee6b7c14f4ec37",
     "grade": false,
     "grade_id": "cell-a472a21b4a57b885",
     "locked": true,
     "schema_version": 1,
     "solution": false
    }
   },
   "source": [
    "## *Implement* agent_step()\n",
    "\n",
    "In agent_step(), the agent must:\n",
    "\n",
    "- Perform an update to improve the value estimate of the previously visited state, and\n",
    "- Act based on the state provided by the environment.\n",
    "\n",
    "The latter of the two steps above has been implemented for you. Implement the former. Note that, unlike later in agent_end(), the episode has not yet ended in agent_step(). in other words, the previously observed state was not a terminal state."
   ]
  },
  {
   "cell_type": "code",
   "execution_count": 15,
   "metadata": {
    "deletable": false,
    "nbgrader": {
     "checksum": "4c68b1daf60c5fbf3c75d4329048af15",
     "grade": false,
     "grade_id": "cell-2bec3235783127e8",
     "locked": false,
     "schema_version": 1,
     "solution": true
    }
   },
   "outputs": [],
   "source": [
    "%%add_to TDAgent\n",
    "\n",
    "#[GRADED] FUNCTION: [agent_step]\n",
    "\n",
    "# Work Required: Yes. Fill in the TD-target and update.\n",
    "# Lines: ~2.\n",
    "def agent_step(self, reward, state):\n",
    "    \"\"\"A step taken by the agent.\n",
    "    Args:\n",
    "        reward (float): the reward received for taking the last action taken\n",
    "        state (Numpy array): the state from the\n",
    "            environment's step after the last action, i.e., where the agent ended up after the\n",
    "            last action\n",
    "    Returns:\n",
    "        The action the agent is taking.\n",
    "    \"\"\"\n",
    "    ### START CODE HERE ###\n",
    "    # Hint: We should perform an update with the last state given that we now have the reward and\n",
    "    # next state. We break this into two steps. Recall for example that the Monte-Carlo update \n",
    "    # had the form: V[S_t] = V[S_t] + alpha * (target - V[S_t]), where the target was the return, G_t.\n",
    "    target = reward + (self.discount) * (self.values[state])\n",
    "    self.values[self.last_state] = self.values[self.last_state] + (self.step_size) * (target - self.values[self.last_state])\n",
    "    ### END CODE HERE ###\n",
    "\n",
    "    # Having updated the value for the last state, we now act based on the current \n",
    "    # state, and set the last state to be current one as we will next be making an \n",
    "    # update with it when agent_step is called next once the action we return from this function \n",
    "    # is executed in the environment.\n",
    "\n",
    "    action = self.rand_generator.choice(range(self.policy.shape[1]), p=self.policy[state])\n",
    "    self.last_state = state\n",
    "\n",
    "    return action"
   ]
  },
  {
   "cell_type": "markdown",
   "metadata": {
    "deletable": false,
    "editable": false,
    "nbgrader": {
     "checksum": "8f516e1bdb6ca3f1a1ce385cf2c56765",
     "grade": false,
     "grade_id": "cell-f5ed31e224e22cda",
     "locked": true,
     "schema_version": 1,
     "solution": false
    }
   },
   "source": [
    "## *Implement* agent_end() \n",
    "\n",
    "Implement the TD update for the case where an action leads to a terminal state."
   ]
  },
  {
   "cell_type": "code",
   "execution_count": 16,
   "metadata": {
    "deletable": false,
    "nbgrader": {
     "checksum": "65b123f954dd8176f089d389bc2e9735",
     "grade": false,
     "grade_id": "cell-08c5ac56c1a0a841",
     "locked": false,
     "schema_version": 1,
     "solution": true
    }
   },
   "outputs": [],
   "source": [
    "%%add_to TDAgent\n",
    "\n",
    "#[GRADED] FUNCTION: [agent_end]\n",
    "\n",
    "# Work Required: Yes. Fill in the TD-target and update.\n",
    "# Lines: ~2.\n",
    "def agent_end(self, reward):\n",
    "    \"\"\"Run when the agent terminates.\n",
    "    Args:\n",
    "        reward (float): the reward the agent received for entering the terminal state.\n",
    "    \"\"\"\n",
    "    ### START CODE HERE ###\n",
    "    # Hint: Here too, we should perform an update with the last state given that we now have the \n",
    "    # reward. Note that in this case, the action led to termination. Once more, we break this into \n",
    "    # two steps, computing the target and the update itself that uses the target and the \n",
    "    # current value estimate for the state whose value we are updating.\n",
    "    target = reward\n",
    "    self.values[self.last_state] = self.values[self.last_state] + (self.step_size) * (target - self.values[self.last_state])\n",
    "    ### END CODE HERE ###"
   ]
  },
  {
   "cell_type": "markdown",
   "metadata": {
    "deletable": false,
    "editable": false,
    "nbgrader": {
     "checksum": "8e12df5724ecfa704bc67e2577c2ea34",
     "grade": false,
     "grade_id": "cell-06cbc6053aa156bc",
     "locked": true,
     "schema_version": 1,
     "solution": false
    }
   },
   "source": [
    "## agent_cleanup()\n",
    "\n",
    "In cleanup, we simply reset the last state to be None to ensure that we are not storing any states past an episode."
   ]
  },
  {
   "cell_type": "code",
   "execution_count": 17,
   "metadata": {
    "deletable": false,
    "editable": false,
    "nbgrader": {
     "checksum": "540f808d320ce14b29ee7e8ddcda6ae7",
     "grade": false,
     "grade_id": "cell-c39f860970dfe3a7",
     "locked": true,
     "schema_version": 1,
     "solution": false
    }
   },
   "outputs": [],
   "source": [
    "%%add_to TDAgent\n",
    "\n",
    "# Do not modify this cell!\n",
    "\n",
    "# Work Required: No.\n",
    "def agent_cleanup(self):\n",
    "    \"\"\"Cleanup done after the agent ends.\"\"\"\n",
    "    self.last_state = None"
   ]
  },
  {
   "cell_type": "markdown",
   "metadata": {
    "deletable": false,
    "editable": false,
    "nbgrader": {
     "checksum": "f62a4cb327c230937f3bc459f305e6f6",
     "grade": false,
     "grade_id": "cell-aadbaa36598224e6",
     "locked": true,
     "schema_version": 1,
     "solution": false
    }
   },
   "source": [
    "## agent_message()\n",
    "\n",
    "agent_message() can generally be used to get different kinds of information about an RLGlue agent in the interaction loop of RLGlue. Here, we conditonally check for a message matching \"get_values\" and use it to retrieve the values table the agent has been updating over time."
   ]
  },
  {
   "cell_type": "code",
   "execution_count": 18,
   "metadata": {
    "deletable": false,
    "editable": false,
    "nbgrader": {
     "checksum": "9e222e9cc5396065dafe6e39a2052097",
     "grade": false,
     "grade_id": "cell-a440254b4f0573e2",
     "locked": true,
     "schema_version": 1,
     "solution": false
    }
   },
   "outputs": [],
   "source": [
    "%%add_to TDAgent\n",
    "\n",
    "# Do not modify this cell!\n",
    "\n",
    "# Work Required: No.\n",
    "def agent_message(self, message):\n",
    "    \"\"\"A function used to pass information from the agent to the experiment.\n",
    "    Args:\n",
    "        message: The message passed to the agent.\n",
    "    Returns:\n",
    "        The response (or answer) to the message.\n",
    "    \"\"\"\n",
    "    if message == \"get_values\":\n",
    "        return self.values\n",
    "    else:\n",
    "        raise Exception(\"TDAgent.agent_message(): Message not understood!\")"
   ]
  },
  {
   "cell_type": "code",
   "execution_count": 19,
   "metadata": {
    "deletable": false,
    "editable": false,
    "nbgrader": {
     "checksum": "6830d90d89beea893034ebe0d7b2373c",
     "grade": true,
     "grade_id": "td_updates",
     "locked": true,
     "points": 20,
     "schema_version": 1,
     "solution": false
    }
   },
   "outputs": [],
   "source": [
    "### AUTOGRADER TESTS FOR TD-UPDATES (20 POINTS)\n",
    "# NOTE: The test belows serve as a good check in debugging your code for the TD updates. However, \n",
    "#       as with the other tests, it is limited in scope. Hidden tests are used in the autograder.\n",
    "#       You may wish to run other tests to check your implementation.\n",
    "def test_td_updates():\n",
    "    # The following test checks that the TD check works for a case where the transition \n",
    "    # garners reward -1 and does not lead to a terminal state. This is in a simple two state setting \n",
    "    # where there is only one action. The first state's current value estimate is 0 while the second is 1.\n",
    "    # Note the discount and step size if you are debugging this test.\n",
    "    agent = TDAgent()\n",
    "    policy_list = np.array([[1.], [1.]])\n",
    "    agent.agent_init({\"policy\": np.array(policy_list), \"discount\": 0.99, \"step_size\": 0.1})\n",
    "    agent.values = np.array([0., 1.])\n",
    "    agent.agent_start(0)\n",
    "    reward = -1\n",
    "    next_state = 1\n",
    "    agent.agent_step(reward, next_state)\n",
    "    assert(np.isclose(agent.values[0], -0.001) and np.isclose(agent.values[1], 1.))\n",
    "    \n",
    "    # The following test checks that the TD check works for a case where the transition \n",
    "    # garners reward -100 and lead to a terminal state. This is in a simple one state setting \n",
    "    # where there is only one action. The state's current value estimate is 0.\n",
    "    # Note the discount and step size if you are debugging this test.\n",
    "    agent = TDAgent()\n",
    "    policy_list = np.array([[1.]])\n",
    "    agent.agent_init({\"policy\": np.array(policy_list), \"discount\": 0.99, \"step_size\": 0.1})\n",
    "    agent.values = np.array([0.])\n",
    "    agent.agent_start(0)\n",
    "    reward = -100\n",
    "    next_state = 0\n",
    "    agent.agent_end(reward)\n",
    "    assert(np.isclose(agent.values[0], -10))\n",
    "    \n",
    "test_td_updates()"
   ]
  },
  {
   "cell_type": "markdown",
   "metadata": {
    "deletable": false,
    "editable": false,
    "nbgrader": {
     "checksum": "ba2a884124c4e5c073f529f94a2bd580",
     "grade": false,
     "grade_id": "cell-3f4e7f85a3f548e9",
     "locked": true,
     "schema_version": 1,
     "solution": false
    }
   },
   "source": [
    "## Section 3. Policy Evaluation Experiments\n",
    "\n",
    "Finally, in this last part of the assignment, you will get to see the TD policy evaluation algorithm in action by looking at the estimated values, the per state value error and after the experiment is complete, the Mean Squared Value Error curve vs. episode number, summarizing how the value error changed over time.\n",
    "\n",
    "The code below runs one run of an experiment given env_info and agent_info dictionaries. A \"manager\" object is created for visualizations and is used in part for the autograder. By default, the run will be for 5000 episodes. The true_values_file is specified to compare the learned value function with the values stored in the true_values_file. Plotting of the learned value  function occurs by default after every 100 episodes. In addition, when true_values_file is specified, the value error per state and the root mean square value error will also be plotted."
   ]
  },
  {
   "cell_type": "code",
   "execution_count": 20,
   "metadata": {
    "deletable": false,
    "editable": false,
    "nbgrader": {
     "checksum": "d929e2760dd07cbdd0bea18f05639d81",
     "grade": false,
     "grade_id": "cell-7b2ee7906789af2d",
     "locked": true,
     "schema_version": 1,
     "solution": false
    }
   },
   "outputs": [],
   "source": [
    "%matplotlib notebook\n",
    "\n",
    "# Work Required: No. \n",
    "def run_experiment(env_info, agent_info, \n",
    "                   num_episodes=5000,\n",
    "                   experiment_name=None,\n",
    "                   plot_freq=100,\n",
    "                   true_values_file=None,\n",
    "                   value_error_threshold=1e-8):\n",
    "    env = CliffWalkEnvironment\n",
    "    agent = TDAgent\n",
    "    rl_glue = RLGlue(env, agent)\n",
    "\n",
    "    rl_glue.rl_init(agent_info, env_info)\n",
    "\n",
    "    manager = Manager(env_info, agent_info, true_values_file=true_values_file, experiment_name=experiment_name)\n",
    "    for episode in range(1, num_episodes + 1):\n",
    "        rl_glue.rl_episode(0) # no step limit\n",
    "        if episode % plot_freq == 0:\n",
    "            values = rl_glue.agent.agent_message(\"get_values\")\n",
    "            manager.visualize(values, episode)\n",
    "\n",
    "    values = rl_glue.agent.agent_message(\"get_values\")\n",
    "    if true_values_file is not None:\n",
    "        # Grading: The Manager will check that the values computed using your TD agent match \n",
    "        # the true values (within some small allowance) across the states. In addition, it also\n",
    "        # checks whether the root mean squared value error is close to 0.\n",
    "        manager.run_tests(values, value_error_threshold)\n",
    "    \n",
    "    return values"
   ]
  },
  {
   "cell_type": "markdown",
   "metadata": {
    "deletable": false,
    "editable": false,
    "nbgrader": {
     "checksum": "4fad676a6e39768fdfe6897b2fb9032a",
     "grade": false,
     "grade_id": "cell-17e3e97164635860",
     "locked": true,
     "schema_version": 1,
     "solution": false
    }
   },
   "source": [
    "The cell below just runs a policy evaluation experiment with the determinstic optimal policy that strides just above the cliff. You should observe that the per state value error and RMSVE curve asymptotically go towards 0. The arrows in the four directions denote the probabilities of taking each action. This experiment is ungraded but should serve as a good test for the later experiments. The true values file provided for this experiment may help with debugging as well."
   ]
  },
  {
   "cell_type": "code",
   "execution_count": 21,
   "metadata": {
    "deletable": false,
    "editable": false,
    "nbgrader": {
     "checksum": "5f6345cb14ab92ac88ba1653695a1cec",
     "grade": false,
     "grade_id": "cell-70b3816dea097209",
     "locked": true,
     "schema_version": 1,
     "solution": false
    },
    "scrolled": false
   },
   "outputs": [
    {
     "ename": "TypeError",
     "evalue": "CliffWalkEnvironment.env_start() missing 1 required positional argument: 'state'",
     "output_type": "error",
     "traceback": [
      "\u001b[0;31m---------------------------------------------------------------------------\u001b[0m",
      "\u001b[0;31mTypeError\u001b[0m                                 Traceback (most recent call last)",
      "Cell \u001b[0;32mIn[21], line 16\u001b[0m\n\u001b[1;32m     13\u001b[0m agent_info\u001b[38;5;241m.\u001b[39mupdate({\u001b[38;5;124m\"\u001b[39m\u001b[38;5;124mpolicy\u001b[39m\u001b[38;5;124m\"\u001b[39m: policy})\n\u001b[1;32m     15\u001b[0m true_values_file \u001b[38;5;241m=\u001b[39m \u001b[38;5;124m\"\u001b[39m\u001b[38;5;124moptimal_policy_value_fn.npy\u001b[39m\u001b[38;5;124m\"\u001b[39m\n\u001b[0;32m---> 16\u001b[0m _ \u001b[38;5;241m=\u001b[39m run_experiment(env_info, agent_info, num_episodes\u001b[38;5;241m=\u001b[39m\u001b[38;5;241m5000\u001b[39m, experiment_name\u001b[38;5;241m=\u001b[39m\u001b[38;5;124m\"\u001b[39m\u001b[38;5;124mPolicy Evaluation on Optimal Policy\u001b[39m\u001b[38;5;124m\"\u001b[39m,\n\u001b[1;32m     17\u001b[0m                    plot_freq\u001b[38;5;241m=\u001b[39m\u001b[38;5;241m500\u001b[39m, true_values_file\u001b[38;5;241m=\u001b[39mtrue_values_file)\n",
      "Cell \u001b[0;32mIn[20], line 18\u001b[0m, in \u001b[0;36mrun_experiment\u001b[0;34m(env_info, agent_info, num_episodes, experiment_name, plot_freq, true_values_file, value_error_threshold)\u001b[0m\n\u001b[1;32m     16\u001b[0m manager \u001b[38;5;241m=\u001b[39m Manager(env_info, agent_info, true_values_file\u001b[38;5;241m=\u001b[39mtrue_values_file, experiment_name\u001b[38;5;241m=\u001b[39mexperiment_name)\n\u001b[1;32m     17\u001b[0m \u001b[38;5;28;01mfor\u001b[39;00m episode \u001b[38;5;129;01min\u001b[39;00m \u001b[38;5;28mrange\u001b[39m(\u001b[38;5;241m1\u001b[39m, num_episodes \u001b[38;5;241m+\u001b[39m \u001b[38;5;241m1\u001b[39m):\n\u001b[0;32m---> 18\u001b[0m     rl_glue\u001b[38;5;241m.\u001b[39mrl_episode(\u001b[38;5;241m0\u001b[39m) \u001b[38;5;66;03m# no step limit\u001b[39;00m\n\u001b[1;32m     19\u001b[0m     \u001b[38;5;28;01mif\u001b[39;00m episode \u001b[38;5;241m%\u001b[39m plot_freq \u001b[38;5;241m==\u001b[39m \u001b[38;5;241m0\u001b[39m:\n\u001b[1;32m     20\u001b[0m         values \u001b[38;5;241m=\u001b[39m rl_glue\u001b[38;5;241m.\u001b[39magent\u001b[38;5;241m.\u001b[39magent_message(\u001b[38;5;124m\"\u001b[39m\u001b[38;5;124mget_values\u001b[39m\u001b[38;5;124m\"\u001b[39m)\n",
      "File \u001b[0;32m~/Documents/USC/RLLearning/Reinforcement-Learning-Specialization/Sample-based Learning Methods/Week 3/Notebook: Policy Evaluation with Temporal Difference Learning/rl_glue.py:186\u001b[0m, in \u001b[0;36mRLGlue.rl_episode\u001b[0;34m(self, max_steps_this_episode)\u001b[0m\n\u001b[1;32m    176\u001b[0m \u001b[38;5;250m\u001b[39m\u001b[38;5;124;03m\"\"\"Runs an RLGlue episode\u001b[39;00m\n\u001b[1;32m    177\u001b[0m \n\u001b[1;32m    178\u001b[0m \u001b[38;5;124;03mArgs:\u001b[39;00m\n\u001b[0;32m   (...)\u001b[0m\n\u001b[1;32m    182\u001b[0m \u001b[38;5;124;03m    Boolean: if the episode should terminate\u001b[39;00m\n\u001b[1;32m    183\u001b[0m \u001b[38;5;124;03m\"\"\"\u001b[39;00m\n\u001b[1;32m    184\u001b[0m is_terminal \u001b[38;5;241m=\u001b[39m \u001b[38;5;28;01mFalse\u001b[39;00m\n\u001b[0;32m--> 186\u001b[0m \u001b[38;5;28mself\u001b[39m\u001b[38;5;241m.\u001b[39mrl_start()\n\u001b[1;32m    188\u001b[0m \u001b[38;5;28;01mwhile\u001b[39;00m (\u001b[38;5;129;01mnot\u001b[39;00m is_terminal) \u001b[38;5;129;01mand\u001b[39;00m ((max_steps_this_episode \u001b[38;5;241m==\u001b[39m \u001b[38;5;241m0\u001b[39m) \u001b[38;5;129;01mor\u001b[39;00m\n\u001b[1;32m    189\u001b[0m                              (\u001b[38;5;28mself\u001b[39m\u001b[38;5;241m.\u001b[39mnum_steps \u001b[38;5;241m<\u001b[39m max_steps_this_episode)):\n\u001b[1;32m    190\u001b[0m     rl_step_result \u001b[38;5;241m=\u001b[39m \u001b[38;5;28mself\u001b[39m\u001b[38;5;241m.\u001b[39mrl_step()\n",
      "File \u001b[0;32m~/Documents/USC/RLLearning/Reinforcement-Learning-Specialization/Sample-based Learning Methods/Week 3/Notebook: Policy Evaluation with Temporal Difference Learning/rl_glue.py:45\u001b[0m, in \u001b[0;36mRLGlue.rl_start\u001b[0;34m(self, agent_start_info, env_start_info)\u001b[0m\n\u001b[1;32m     42\u001b[0m \u001b[38;5;28mself\u001b[39m\u001b[38;5;241m.\u001b[39mtotal_reward \u001b[38;5;241m=\u001b[39m \u001b[38;5;241m0.0\u001b[39m\n\u001b[1;32m     43\u001b[0m \u001b[38;5;28mself\u001b[39m\u001b[38;5;241m.\u001b[39mnum_steps \u001b[38;5;241m=\u001b[39m \u001b[38;5;241m1\u001b[39m\n\u001b[0;32m---> 45\u001b[0m last_state \u001b[38;5;241m=\u001b[39m \u001b[38;5;28mself\u001b[39m\u001b[38;5;241m.\u001b[39menvironment\u001b[38;5;241m.\u001b[39menv_start()\n\u001b[1;32m     46\u001b[0m \u001b[38;5;28mself\u001b[39m\u001b[38;5;241m.\u001b[39mlast_action \u001b[38;5;241m=\u001b[39m \u001b[38;5;28mself\u001b[39m\u001b[38;5;241m.\u001b[39magent\u001b[38;5;241m.\u001b[39magent_start(last_state)\n\u001b[1;32m     48\u001b[0m observation \u001b[38;5;241m=\u001b[39m (last_state, \u001b[38;5;28mself\u001b[39m\u001b[38;5;241m.\u001b[39mlast_action)\n",
      "\u001b[0;31mTypeError\u001b[0m: CliffWalkEnvironment.env_start() missing 1 required positional argument: 'state'"
     ]
    }
   ],
   "source": [
    "# Do not modify this cell!\n",
    "\n",
    "env_info = {\"grid_height\": 4, \"grid_width\": 12, \"seed\": 0}\n",
    "agent_info = {\"discount\": 1, \"step_size\": 0.01, \"seed\": 0}\n",
    "\n",
    "# The Optimal Policy that strides just along the cliff\n",
    "policy = np.ones(shape=(env_info['grid_width'] * env_info['grid_height'], 4)) * 0.25\n",
    "policy[36] = [1, 0, 0, 0]\n",
    "for i in range(24, 35):\n",
    "    policy[i] = [0, 0, 0, 1]\n",
    "policy[35] = [0, 0, 1, 0]\n",
    "\n",
    "agent_info.update({\"policy\": policy})\n",
    "\n",
    "true_values_file = \"optimal_policy_value_fn.npy\"\n",
    "_ = run_experiment(env_info, agent_info, num_episodes=5000, experiment_name=\"Policy Evaluation on Optimal Policy\",\n",
    "                   plot_freq=500, true_values_file=true_values_file)"
   ]
  },
  {
   "cell_type": "code",
   "execution_count": 21,
   "metadata": {
    "deletable": false,
    "nbgrader": {
     "checksum": "9b8fd1dd026cb36082aa0d6245763627",
     "grade": false,
     "grade_id": "cell-11c76882b7939d66",
     "locked": false,
     "schema_version": 1,
     "solution": true
    }
   },
   "outputs": [],
   "source": [
    "# The Safe Policy\n",
    "# Hint: Fill in the array below (as done in the previous cell) based on the safe policy illustration \n",
    "# in the environment diagram. This is the policy that strides as far as possible away from the cliff. \n",
    "# We call it a \"safe\" policy because if the environment has any stochasticity, this policy would do a good job in \n",
    "# keeping the agent from falling into the cliff (in contrast to the optimal policy shown before). \n",
    "# BOILERPLATE:\n",
    "policy = np.ones(shape=(env_info['grid_width'] * env_info['grid_height'], 4)) * 0.25\n",
    "### START CODE HERE ###\n",
    "\n",
    "### END CODE HERE ###"
   ]
  },
  {
   "cell_type": "code",
   "execution_count": 22,
   "metadata": {
    "deletable": false,
    "editable": false,
    "nbgrader": {
     "checksum": "b67dc6aaaa345faed7768ab6c07a926c",
     "grade": true,
     "grade_id": "safe_policy",
     "locked": true,
     "points": 20,
     "schema_version": 1,
     "solution": false
    },
    "scrolled": false
   },
   "outputs": [
    {
     "data": {
      "application/javascript": "/* Put everything inside the global mpl namespace */\nwindow.mpl = {};\n\n\nmpl.get_websocket_type = function() {\n    if (typeof(WebSocket) !== 'undefined') {\n        return WebSocket;\n    } else if (typeof(MozWebSocket) !== 'undefined') {\n        return MozWebSocket;\n    } else {\n        alert('Your browser does not have WebSocket support.' +\n              'Please try Chrome, Safari or Firefox ≥ 6. ' +\n              'Firefox 4 and 5 are also supported but you ' +\n              'have to enable WebSockets in about:config.');\n    };\n}\n\nmpl.figure = function(figure_id, websocket, ondownload, parent_element) {\n    this.id = figure_id;\n\n    this.ws = websocket;\n\n    this.supports_binary = (this.ws.binaryType != undefined);\n\n    if (!this.supports_binary) {\n        var warnings = document.getElementById(\"mpl-warnings\");\n        if (warnings) {\n            warnings.style.display = 'block';\n            warnings.textContent = (\n                \"This browser does not support binary websocket messages. \" +\n                    \"Performance may be slow.\");\n        }\n    }\n\n    this.imageObj = new Image();\n\n    this.context = undefined;\n    this.message = undefined;\n    this.canvas = undefined;\n    this.rubberband_canvas = undefined;\n    this.rubberband_context = undefined;\n    this.format_dropdown = undefined;\n\n    this.image_mode = 'full';\n\n    this.root = $('<div/>');\n    this._root_extra_style(this.root)\n    this.root.attr('style', 'display: inline-block');\n\n    $(parent_element).append(this.root);\n\n    this._init_header(this);\n    this._init_canvas(this);\n    this._init_toolbar(this);\n\n    var fig = this;\n\n    this.waiting = false;\n\n    this.ws.onopen =  function () {\n            fig.send_message(\"supports_binary\", {value: fig.supports_binary});\n            fig.send_message(\"send_image_mode\", {});\n            if (mpl.ratio != 1) {\n                fig.send_message(\"set_dpi_ratio\", {'dpi_ratio': mpl.ratio});\n            }\n            fig.send_message(\"refresh\", {});\n        }\n\n    this.imageObj.onload = function() {\n            if (fig.image_mode == 'full') {\n                // Full images could contain transparency (where diff images\n                // almost always do), so we need to clear the canvas so that\n                // there is no ghosting.\n                fig.context.clearRect(0, 0, fig.canvas.width, fig.canvas.height);\n            }\n            fig.context.drawImage(fig.imageObj, 0, 0);\n        };\n\n    this.imageObj.onunload = function() {\n        fig.ws.close();\n    }\n\n    this.ws.onmessage = this._make_on_message_function(this);\n\n    this.ondownload = ondownload;\n}\n\nmpl.figure.prototype._init_header = function() {\n    var titlebar = $(\n        '<div class=\"ui-dialog-titlebar ui-widget-header ui-corner-all ' +\n        'ui-helper-clearfix\"/>');\n    var titletext = $(\n        '<div class=\"ui-dialog-title\" style=\"width: 100%; ' +\n        'text-align: center; padding: 3px;\"/>');\n    titlebar.append(titletext)\n    this.root.append(titlebar);\n    this.header = titletext[0];\n}\n\n\n\nmpl.figure.prototype._canvas_extra_style = function(canvas_div) {\n\n}\n\n\nmpl.figure.prototype._root_extra_style = function(canvas_div) {\n\n}\n\nmpl.figure.prototype._init_canvas = function() {\n    var fig = this;\n\n    var canvas_div = $('<div/>');\n\n    canvas_div.attr('style', 'position: relative; clear: both; outline: 0');\n\n    function canvas_keyboard_event(event) {\n        return fig.key_event(event, event['data']);\n    }\n\n    canvas_div.keydown('key_press', canvas_keyboard_event);\n    canvas_div.keyup('key_release', canvas_keyboard_event);\n    this.canvas_div = canvas_div\n    this._canvas_extra_style(canvas_div)\n    this.root.append(canvas_div);\n\n    var canvas = $('<canvas/>');\n    canvas.addClass('mpl-canvas');\n    canvas.attr('style', \"left: 0; top: 0; z-index: 0; outline: 0\")\n\n    this.canvas = canvas[0];\n    this.context = canvas[0].getContext(\"2d\");\n\n    var backingStore = this.context.backingStorePixelRatio ||\n\tthis.context.webkitBackingStorePixelRatio ||\n\tthis.context.mozBackingStorePixelRatio ||\n\tthis.context.msBackingStorePixelRatio ||\n\tthis.context.oBackingStorePixelRatio ||\n\tthis.context.backingStorePixelRatio || 1;\n\n    mpl.ratio = (window.devicePixelRatio || 1) / backingStore;\n\n    var rubberband = $('<canvas/>');\n    rubberband.attr('style', \"position: absolute; left: 0; top: 0; z-index: 1;\")\n\n    var pass_mouse_events = true;\n\n    canvas_div.resizable({\n        start: function(event, ui) {\n            pass_mouse_events = false;\n        },\n        resize: function(event, ui) {\n            fig.request_resize(ui.size.width, ui.size.height);\n        },\n        stop: function(event, ui) {\n            pass_mouse_events = true;\n            fig.request_resize(ui.size.width, ui.size.height);\n        },\n    });\n\n    function mouse_event_fn(event) {\n        if (pass_mouse_events)\n            return fig.mouse_event(event, event['data']);\n    }\n\n    rubberband.mousedown('button_press', mouse_event_fn);\n    rubberband.mouseup('button_release', mouse_event_fn);\n    // Throttle sequential mouse events to 1 every 20ms.\n    rubberband.mousemove('motion_notify', mouse_event_fn);\n\n    rubberband.mouseenter('figure_enter', mouse_event_fn);\n    rubberband.mouseleave('figure_leave', mouse_event_fn);\n\n    canvas_div.on(\"wheel\", function (event) {\n        event = event.originalEvent;\n        event['data'] = 'scroll'\n        if (event.deltaY < 0) {\n            event.step = 1;\n        } else {\n            event.step = -1;\n        }\n        mouse_event_fn(event);\n    });\n\n    canvas_div.append(canvas);\n    canvas_div.append(rubberband);\n\n    this.rubberband = rubberband;\n    this.rubberband_canvas = rubberband[0];\n    this.rubberband_context = rubberband[0].getContext(\"2d\");\n    this.rubberband_context.strokeStyle = \"#000000\";\n\n    this._resize_canvas = function(width, height) {\n        // Keep the size of the canvas, canvas container, and rubber band\n        // canvas in synch.\n        canvas_div.css('width', width)\n        canvas_div.css('height', height)\n\n        canvas.attr('width', width * mpl.ratio);\n        canvas.attr('height', height * mpl.ratio);\n        canvas.attr('style', 'width: ' + width + 'px; height: ' + height + 'px;');\n\n        rubberband.attr('width', width);\n        rubberband.attr('height', height);\n    }\n\n    // Set the figure to an initial 600x600px, this will subsequently be updated\n    // upon first draw.\n    this._resize_canvas(600, 600);\n\n    // Disable right mouse context menu.\n    $(this.rubberband_canvas).bind(\"contextmenu\",function(e){\n        return false;\n    });\n\n    function set_focus () {\n        canvas.focus();\n        canvas_div.focus();\n    }\n\n    window.setTimeout(set_focus, 100);\n}\n\nmpl.figure.prototype._init_toolbar = function() {\n    var fig = this;\n\n    var nav_element = $('<div/>')\n    nav_element.attr('style', 'width: 100%');\n    this.root.append(nav_element);\n\n    // Define a callback function for later on.\n    function toolbar_event(event) {\n        return fig.toolbar_button_onclick(event['data']);\n    }\n    function toolbar_mouse_event(event) {\n        return fig.toolbar_button_onmouseover(event['data']);\n    }\n\n    for(var toolbar_ind in mpl.toolbar_items) {\n        var name = mpl.toolbar_items[toolbar_ind][0];\n        var tooltip = mpl.toolbar_items[toolbar_ind][1];\n        var image = mpl.toolbar_items[toolbar_ind][2];\n        var method_name = mpl.toolbar_items[toolbar_ind][3];\n\n        if (!name) {\n            // put a spacer in here.\n            continue;\n        }\n        var button = $('<button/>');\n        button.addClass('ui-button ui-widget ui-state-default ui-corner-all ' +\n                        'ui-button-icon-only');\n        button.attr('role', 'button');\n        button.attr('aria-disabled', 'false');\n        button.click(method_name, toolbar_event);\n        button.mouseover(tooltip, toolbar_mouse_event);\n\n        var icon_img = $('<span/>');\n        icon_img.addClass('ui-button-icon-primary ui-icon');\n        icon_img.addClass(image);\n        icon_img.addClass('ui-corner-all');\n\n        var tooltip_span = $('<span/>');\n        tooltip_span.addClass('ui-button-text');\n        tooltip_span.html(tooltip);\n\n        button.append(icon_img);\n        button.append(tooltip_span);\n\n        nav_element.append(button);\n    }\n\n    var fmt_picker_span = $('<span/>');\n\n    var fmt_picker = $('<select/>');\n    fmt_picker.addClass('mpl-toolbar-option ui-widget ui-widget-content');\n    fmt_picker_span.append(fmt_picker);\n    nav_element.append(fmt_picker_span);\n    this.format_dropdown = fmt_picker[0];\n\n    for (var ind in mpl.extensions) {\n        var fmt = mpl.extensions[ind];\n        var option = $(\n            '<option/>', {selected: fmt === mpl.default_extension}).html(fmt);\n        fmt_picker.append(option)\n    }\n\n    // Add hover states to the ui-buttons\n    $( \".ui-button\" ).hover(\n        function() { $(this).addClass(\"ui-state-hover\");},\n        function() { $(this).removeClass(\"ui-state-hover\");}\n    );\n\n    var status_bar = $('<span class=\"mpl-message\"/>');\n    nav_element.append(status_bar);\n    this.message = status_bar[0];\n}\n\nmpl.figure.prototype.request_resize = function(x_pixels, y_pixels) {\n    // Request matplotlib to resize the figure. Matplotlib will then trigger a resize in the client,\n    // which will in turn request a refresh of the image.\n    this.send_message('resize', {'width': x_pixels, 'height': y_pixels});\n}\n\nmpl.figure.prototype.send_message = function(type, properties) {\n    properties['type'] = type;\n    properties['figure_id'] = this.id;\n    this.ws.send(JSON.stringify(properties));\n}\n\nmpl.figure.prototype.send_draw_message = function() {\n    if (!this.waiting) {\n        this.waiting = true;\n        this.ws.send(JSON.stringify({type: \"draw\", figure_id: this.id}));\n    }\n}\n\n\nmpl.figure.prototype.handle_save = function(fig, msg) {\n    var format_dropdown = fig.format_dropdown;\n    var format = format_dropdown.options[format_dropdown.selectedIndex].value;\n    fig.ondownload(fig, format);\n}\n\n\nmpl.figure.prototype.handle_resize = function(fig, msg) {\n    var size = msg['size'];\n    if (size[0] != fig.canvas.width || size[1] != fig.canvas.height) {\n        fig._resize_canvas(size[0], size[1]);\n        fig.send_message(\"refresh\", {});\n    };\n}\n\nmpl.figure.prototype.handle_rubberband = function(fig, msg) {\n    var x0 = msg['x0'] / mpl.ratio;\n    var y0 = (fig.canvas.height - msg['y0']) / mpl.ratio;\n    var x1 = msg['x1'] / mpl.ratio;\n    var y1 = (fig.canvas.height - msg['y1']) / mpl.ratio;\n    x0 = Math.floor(x0) + 0.5;\n    y0 = Math.floor(y0) + 0.5;\n    x1 = Math.floor(x1) + 0.5;\n    y1 = Math.floor(y1) + 0.5;\n    var min_x = Math.min(x0, x1);\n    var min_y = Math.min(y0, y1);\n    var width = Math.abs(x1 - x0);\n    var height = Math.abs(y1 - y0);\n\n    fig.rubberband_context.clearRect(\n        0, 0, fig.canvas.width, fig.canvas.height);\n\n    fig.rubberband_context.strokeRect(min_x, min_y, width, height);\n}\n\nmpl.figure.prototype.handle_figure_label = function(fig, msg) {\n    // Updates the figure title.\n    fig.header.textContent = msg['label'];\n}\n\nmpl.figure.prototype.handle_cursor = function(fig, msg) {\n    var cursor = msg['cursor'];\n    switch(cursor)\n    {\n    case 0:\n        cursor = 'pointer';\n        break;\n    case 1:\n        cursor = 'default';\n        break;\n    case 2:\n        cursor = 'crosshair';\n        break;\n    case 3:\n        cursor = 'move';\n        break;\n    }\n    fig.rubberband_canvas.style.cursor = cursor;\n}\n\nmpl.figure.prototype.handle_message = function(fig, msg) {\n    fig.message.textContent = msg['message'];\n}\n\nmpl.figure.prototype.handle_draw = function(fig, msg) {\n    // Request the server to send over a new figure.\n    fig.send_draw_message();\n}\n\nmpl.figure.prototype.handle_image_mode = function(fig, msg) {\n    fig.image_mode = msg['mode'];\n}\n\nmpl.figure.prototype.updated_canvas_event = function() {\n    // Called whenever the canvas gets updated.\n    this.send_message(\"ack\", {});\n}\n\n// A function to construct a web socket function for onmessage handling.\n// Called in the figure constructor.\nmpl.figure.prototype._make_on_message_function = function(fig) {\n    return function socket_on_message(evt) {\n        if (evt.data instanceof Blob) {\n            /* FIXME: We get \"Resource interpreted as Image but\n             * transferred with MIME type text/plain:\" errors on\n             * Chrome.  But how to set the MIME type?  It doesn't seem\n             * to be part of the websocket stream */\n            evt.data.type = \"image/png\";\n\n            /* Free the memory for the previous frames */\n            if (fig.imageObj.src) {\n                (window.URL || window.webkitURL).revokeObjectURL(\n                    fig.imageObj.src);\n            }\n\n            fig.imageObj.src = (window.URL || window.webkitURL).createObjectURL(\n                evt.data);\n            fig.updated_canvas_event();\n            fig.waiting = false;\n            return;\n        }\n        else if (typeof evt.data === 'string' && evt.data.slice(0, 21) == \"data:image/png;base64\") {\n            fig.imageObj.src = evt.data;\n            fig.updated_canvas_event();\n            fig.waiting = false;\n            return;\n        }\n\n        var msg = JSON.parse(evt.data);\n        var msg_type = msg['type'];\n\n        // Call the  \"handle_{type}\" callback, which takes\n        // the figure and JSON message as its only arguments.\n        try {\n            var callback = fig[\"handle_\" + msg_type];\n        } catch (e) {\n            console.log(\"No handler for the '\" + msg_type + \"' message type: \", msg);\n            return;\n        }\n\n        if (callback) {\n            try {\n                // console.log(\"Handling '\" + msg_type + \"' message: \", msg);\n                callback(fig, msg);\n            } catch (e) {\n                console.log(\"Exception inside the 'handler_\" + msg_type + \"' callback:\", e, e.stack, msg);\n            }\n        }\n    };\n}\n\n// from http://stackoverflow.com/questions/1114465/getting-mouse-location-in-canvas\nmpl.findpos = function(e) {\n    //this section is from http://www.quirksmode.org/js/events_properties.html\n    var targ;\n    if (!e)\n        e = window.event;\n    if (e.target)\n        targ = e.target;\n    else if (e.srcElement)\n        targ = e.srcElement;\n    if (targ.nodeType == 3) // defeat Safari bug\n        targ = targ.parentNode;\n\n    // jQuery normalizes the pageX and pageY\n    // pageX,Y are the mouse positions relative to the document\n    // offset() returns the position of the element relative to the document\n    var x = e.pageX - $(targ).offset().left;\n    var y = e.pageY - $(targ).offset().top;\n\n    return {\"x\": x, \"y\": y};\n};\n\n/*\n * return a copy of an object with only non-object keys\n * we need this to avoid circular references\n * http://stackoverflow.com/a/24161582/3208463\n */\nfunction simpleKeys (original) {\n  return Object.keys(original).reduce(function (obj, key) {\n    if (typeof original[key] !== 'object')\n        obj[key] = original[key]\n    return obj;\n  }, {});\n}\n\nmpl.figure.prototype.mouse_event = function(event, name) {\n    var canvas_pos = mpl.findpos(event)\n\n    if (name === 'button_press')\n    {\n        this.canvas.focus();\n        this.canvas_div.focus();\n    }\n\n    var x = canvas_pos.x * mpl.ratio;\n    var y = canvas_pos.y * mpl.ratio;\n\n    this.send_message(name, {x: x, y: y, button: event.button,\n                             step: event.step,\n                             guiEvent: simpleKeys(event)});\n\n    /* This prevents the web browser from automatically changing to\n     * the text insertion cursor when the button is pressed.  We want\n     * to control all of the cursor setting manually through the\n     * 'cursor' event from matplotlib */\n    event.preventDefault();\n    return false;\n}\n\nmpl.figure.prototype._key_event_extra = function(event, name) {\n    // Handle any extra behaviour associated with a key event\n}\n\nmpl.figure.prototype.key_event = function(event, name) {\n\n    // Prevent repeat events\n    if (name == 'key_press')\n    {\n        if (event.which === this._key)\n            return;\n        else\n            this._key = event.which;\n    }\n    if (name == 'key_release')\n        this._key = null;\n\n    var value = '';\n    if (event.ctrlKey && event.which != 17)\n        value += \"ctrl+\";\n    if (event.altKey && event.which != 18)\n        value += \"alt+\";\n    if (event.shiftKey && event.which != 16)\n        value += \"shift+\";\n\n    value += 'k';\n    value += event.which.toString();\n\n    this._key_event_extra(event, name);\n\n    this.send_message(name, {key: value,\n                             guiEvent: simpleKeys(event)});\n    return false;\n}\n\nmpl.figure.prototype.toolbar_button_onclick = function(name) {\n    if (name == 'download') {\n        this.handle_save(this, null);\n    } else {\n        this.send_message(\"toolbar_button\", {name: name});\n    }\n};\n\nmpl.figure.prototype.toolbar_button_onmouseover = function(tooltip) {\n    this.message.textContent = tooltip;\n};\nmpl.toolbar_items = [[\"Home\", \"Reset original view\", \"fa fa-home icon-home\", \"home\"], [\"Back\", \"Back to previous view\", \"fa fa-arrow-left icon-arrow-left\", \"back\"], [\"Forward\", \"Forward to next view\", \"fa fa-arrow-right icon-arrow-right\", \"forward\"], [\"\", \"\", \"\", \"\"], [\"Pan\", \"Pan axes with left mouse, zoom with right\", \"fa fa-arrows icon-move\", \"pan\"], [\"Zoom\", \"Zoom to rectangle\", \"fa fa-square-o icon-check-empty\", \"zoom\"], [\"\", \"\", \"\", \"\"], [\"Download\", \"Download plot\", \"fa fa-floppy-o icon-save\", \"download\"]];\n\nmpl.extensions = [\"eps\", \"jpeg\", \"pdf\", \"png\", \"ps\", \"raw\", \"svg\", \"tif\"];\n\nmpl.default_extension = \"png\";var comm_websocket_adapter = function(comm) {\n    // Create a \"websocket\"-like object which calls the given IPython comm\n    // object with the appropriate methods. Currently this is a non binary\n    // socket, so there is still some room for performance tuning.\n    var ws = {};\n\n    ws.close = function() {\n        comm.close()\n    };\n    ws.send = function(m) {\n        //console.log('sending', m);\n        comm.send(m);\n    };\n    // Register the callback with on_msg.\n    comm.on_msg(function(msg) {\n        //console.log('receiving', msg['content']['data'], msg);\n        // Pass the mpl event to the overridden (by mpl) onmessage function.\n        ws.onmessage(msg['content']['data'])\n    });\n    return ws;\n}\n\nmpl.mpl_figure_comm = function(comm, msg) {\n    // This is the function which gets called when the mpl process\n    // starts-up an IPython Comm through the \"matplotlib\" channel.\n\n    var id = msg.content.data.id;\n    // Get hold of the div created by the display call when the Comm\n    // socket was opened in Python.\n    var element = $(\"#\" + id);\n    var ws_proxy = comm_websocket_adapter(comm)\n\n    function ondownload(figure, format) {\n        window.open(figure.imageObj.src);\n    }\n\n    var fig = new mpl.figure(id, ws_proxy,\n                           ondownload,\n                           element.get(0));\n\n    // Call onopen now - mpl needs it, as it is assuming we've passed it a real\n    // web socket which is closed, not our websocket->open comm proxy.\n    ws_proxy.onopen();\n\n    fig.parent_element = element.get(0);\n    fig.cell_info = mpl.find_output_cell(\"<div id='\" + id + \"'></div>\");\n    if (!fig.cell_info) {\n        console.error(\"Failed to find cell for figure\", id, fig);\n        return;\n    }\n\n    var output_index = fig.cell_info[2]\n    var cell = fig.cell_info[0];\n\n};\n\nmpl.figure.prototype.handle_close = function(fig, msg) {\n    var width = fig.canvas.width/mpl.ratio\n    fig.root.unbind('remove')\n\n    // Update the output cell to use the data from the current canvas.\n    fig.push_to_output();\n    var dataURL = fig.canvas.toDataURL();\n    // Re-enable the keyboard manager in IPython - without this line, in FF,\n    // the notebook keyboard shortcuts fail.\n    IPython.keyboard_manager.enable()\n    $(fig.parent_element).html('<img src=\"' + dataURL + '\" width=\"' + width + '\">');\n    fig.close_ws(fig, msg);\n}\n\nmpl.figure.prototype.close_ws = function(fig, msg){\n    fig.send_message('closing', msg);\n    // fig.ws.close()\n}\n\nmpl.figure.prototype.push_to_output = function(remove_interactive) {\n    // Turn the data on the canvas into data in the output cell.\n    var width = this.canvas.width/mpl.ratio\n    var dataURL = this.canvas.toDataURL();\n    this.cell_info[1]['text/html'] = '<img src=\"' + dataURL + '\" width=\"' + width + '\">';\n}\n\nmpl.figure.prototype.updated_canvas_event = function() {\n    // Tell IPython that the notebook contents must change.\n    IPython.notebook.set_dirty(true);\n    this.send_message(\"ack\", {});\n    var fig = this;\n    // Wait a second, then push the new image to the DOM so\n    // that it is saved nicely (might be nice to debounce this).\n    setTimeout(function () { fig.push_to_output() }, 1000);\n}\n\nmpl.figure.prototype._init_toolbar = function() {\n    var fig = this;\n\n    var nav_element = $('<div/>')\n    nav_element.attr('style', 'width: 100%');\n    this.root.append(nav_element);\n\n    // Define a callback function for later on.\n    function toolbar_event(event) {\n        return fig.toolbar_button_onclick(event['data']);\n    }\n    function toolbar_mouse_event(event) {\n        return fig.toolbar_button_onmouseover(event['data']);\n    }\n\n    for(var toolbar_ind in mpl.toolbar_items){\n        var name = mpl.toolbar_items[toolbar_ind][0];\n        var tooltip = mpl.toolbar_items[toolbar_ind][1];\n        var image = mpl.toolbar_items[toolbar_ind][2];\n        var method_name = mpl.toolbar_items[toolbar_ind][3];\n\n        if (!name) { continue; };\n\n        var button = $('<button class=\"btn btn-default\" href=\"#\" title=\"' + name + '\"><i class=\"fa ' + image + ' fa-lg\"></i></button>');\n        button.click(method_name, toolbar_event);\n        button.mouseover(tooltip, toolbar_mouse_event);\n        nav_element.append(button);\n    }\n\n    // Add the status bar.\n    var status_bar = $('<span class=\"mpl-message\" style=\"text-align:right; float: right;\"/>');\n    nav_element.append(status_bar);\n    this.message = status_bar[0];\n\n    // Add the close button to the window.\n    var buttongrp = $('<div class=\"btn-group inline pull-right\"></div>');\n    var button = $('<button class=\"btn btn-mini btn-primary\" href=\"#\" title=\"Stop Interaction\"><i class=\"fa fa-power-off icon-remove icon-large\"></i></button>');\n    button.click(function (evt) { fig.handle_close(fig, {}); } );\n    button.mouseover('Stop Interaction', toolbar_mouse_event);\n    buttongrp.append(button);\n    var titlebar = this.root.find($('.ui-dialog-titlebar'));\n    titlebar.prepend(buttongrp);\n}\n\nmpl.figure.prototype._root_extra_style = function(el){\n    var fig = this\n    el.on(\"remove\", function(){\n\tfig.close_ws(fig, {});\n    });\n}\n\nmpl.figure.prototype._canvas_extra_style = function(el){\n    // this is important to make the div 'focusable\n    el.attr('tabindex', 0)\n    // reach out to IPython and tell the keyboard manager to turn it's self\n    // off when our div gets focus\n\n    // location in version 3\n    if (IPython.notebook.keyboard_manager) {\n        IPython.notebook.keyboard_manager.register_events(el);\n    }\n    else {\n        // location in version 2\n        IPython.keyboard_manager.register_events(el);\n    }\n\n}\n\nmpl.figure.prototype._key_event_extra = function(event, name) {\n    var manager = IPython.notebook.keyboard_manager;\n    if (!manager)\n        manager = IPython.keyboard_manager;\n\n    // Check for shift+enter\n    if (event.shiftKey && event.which == 13) {\n        this.canvas_div.blur();\n        event.shiftKey = false;\n        // Send a \"J\" for go to next cell\n        event.which = 74;\n        event.keyCode = 74;\n        manager.command_mode();\n        manager.handle_keydown(event);\n    }\n}\n\nmpl.figure.prototype.handle_save = function(fig, msg) {\n    fig.ondownload(fig, null);\n}\n\n\nmpl.find_output_cell = function(html_output) {\n    // Return the cell and output element which can be found *uniquely* in the notebook.\n    // Note - this is a bit hacky, but it is done because the \"notebook_saving.Notebook\"\n    // IPython event is triggered only after the cells have been serialised, which for\n    // our purposes (turning an active figure into a static one), is too late.\n    var cells = IPython.notebook.get_cells();\n    var ncells = cells.length;\n    for (var i=0; i<ncells; i++) {\n        var cell = cells[i];\n        if (cell.cell_type === 'code'){\n            for (var j=0; j<cell.output_area.outputs.length; j++) {\n                var data = cell.output_area.outputs[j];\n                if (data.data) {\n                    // IPython >= 3 moved mimebundle to data attribute of output\n                    data = data.data;\n                }\n                if (data['text/html'] == html_output) {\n                    return [cell, data, j];\n                }\n            }\n        }\n    }\n}\n\n// Register the function which deals with the matplotlib target/channel.\n// The kernel may be null if the page has been refreshed.\nif (IPython.notebook.kernel != null) {\n    IPython.notebook.kernel.comm_manager.register_target('matplotlib', mpl.mpl_figure_comm);\n}\n",
      "text/plain": [
       "<IPython.core.display.Javascript object>"
      ]
     },
     "metadata": {},
     "output_type": "display_data"
    },
    {
     "data": {
      "text/html": [
       "<img src=\"data:image/png;base64,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\" width=\"1000\">"
      ],
      "text/plain": [
       "<IPython.core.display.HTML object>"
      ]
     },
     "metadata": {},
     "output_type": "display_data"
    }
   ],
   "source": [
    "### AUTO-GRADER TESTS FOR POLICY EVALUATION WITH SAFE POLICY\n",
    "agent_info.update({\"policy\": policy})\n",
    "v = run_experiment(env_info, agent_info,\n",
    "               experiment_name=\"Policy Evaluation On Safe Policy\",\n",
    "               num_episodes=5000, plot_freq=500)"
   ]
  },
  {
   "cell_type": "code",
   "execution_count": 23,
   "metadata": {
    "deletable": false,
    "editable": false,
    "nbgrader": {
     "checksum": "64c386534d040888bfa2fe3ba58f1370",
     "grade": false,
     "grade_id": "cell-3a8720c5685c8716",
     "locked": true,
     "schema_version": 1,
     "solution": false
    }
   },
   "outputs": [],
   "source": [
    "# Do not modify this cell!\n",
    "\n",
    "# A Near Optimal Stochastic Policy\n",
    "# Now, we try a stochastic policy that deviates a little from the optimal policy seen above. \n",
    "# This means we can get different results due to randomness.\n",
    "# We will thus average the value function estimates we get over multiple runs. \n",
    "# This can take some time, upto about 5 minutes from previous testing. \n",
    "# NOTE: The autograder will compare . Re-run this cell upon making any changes.\n",
    "\n",
    "env_info = {\"grid_height\": 4, \"grid_width\": 12}\n",
    "agent_info = {\"discount\": 1, \"step_size\": 0.01}\n",
    "\n",
    "policy = np.ones(shape=(env_info['grid_width'] * env_info['grid_height'], 4)) * 0.25\n",
    "policy[36] = [0.9, 0.1/3., 0.1/3., 0.1/3.]\n",
    "for i in range(24, 35):\n",
    "    policy[i] = [0.1/3., 0.1/3., 0.1/3., 0.9]\n",
    "policy[35] = [0.1/3., 0.1/3., 0.9, 0.1/3.]\n",
    "agent_info.update({\"policy\": policy})\n",
    "agent_info.update({\"step_size\": 0.01})"
   ]
  },
  {
   "cell_type": "code",
   "execution_count": 24,
   "metadata": {
    "deletable": false,
    "editable": false,
    "nbgrader": {
     "checksum": "c900a0e55cf506cdae6e3607890bcdbd",
     "grade": true,
     "grade_id": "near_optimal_stochastic_policy",
     "locked": true,
     "points": 40,
     "schema_version": 1,
     "solution": false
    }
   },
   "outputs": [
    {
     "name": "stderr",
     "output_type": "stream",
     "text": [
      "100%|██████████| 30/30 [01:47<00:00,  3.58s/it]\n"
     ]
    }
   ],
   "source": [
    "### AUTO-GRADER TESTS FOR POLICY EVALUATION WITH NEAR OPTIMAL STOCHASTIC POLICY (40 POINTS)\n",
    "arr = []\n",
    "from tqdm import tqdm\n",
    "for i in tqdm(range(30)):\n",
    "    env_info['seed'] = i\n",
    "    agent_info['seed'] = i\n",
    "    v = run_experiment(env_info, agent_info,\n",
    "                   experiment_name=\"Policy Evaluation On Optimal Policy\",\n",
    "                   num_episodes=5000, plot_freq=10000)\n",
    "    arr.append(v)\n",
    "average_v = np.array(arr).mean(axis=0)"
   ]
  },
  {
   "cell_type": "markdown",
   "metadata": {
    "deletable": false,
    "editable": false,
    "nbgrader": {
     "checksum": "74d80436e59bbf99333411fd5ac1675b",
     "grade": false,
     "grade_id": "cell-0276c863cb27066d",
     "locked": true,
     "schema_version": 1,
     "solution": false
    }
   },
   "source": [
    "## Wrapping Up\n",
    "Congratulations, you have completed assignment 2! In this assignment, we investigated a very useful concept for sample-based online learning: temporal difference. We particularly looked at the prediction problem where the goal is to find the value function corresponding to a given policy. In the next assignment, by learning the action-value function instead of the state-value function, you will get to see how temporal difference learning can be used in control as well."
   ]
  }
 ],
 "metadata": {
  "coursera": {
   "course_slug": "sample-based-learning-methods",
   "graded_item_id": "P4k5f",
   "launcher_item_id": "OwIbv"
  },
  "kernelspec": {
   "display_name": "Python 3",
   "language": "python",
   "name": "python3"
  },
  "language_info": {
   "codemirror_mode": {
    "name": "ipython",
    "version": 3
   },
   "file_extension": ".py",
   "mimetype": "text/x-python",
   "name": "python",
   "nbconvert_exporter": "python",
   "pygments_lexer": "ipython3",
   "version": "3.11.5"
  }
 },
 "nbformat": 4,
 "nbformat_minor": 2
}
